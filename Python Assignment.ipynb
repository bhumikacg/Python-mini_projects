{
  "nbformat": 4,
  "nbformat_minor": 0,
  "metadata": {
    "colab": {
      "provenance": []
    },
    "kernelspec": {
      "name": "python3",
      "display_name": "Python 3"
    },
    "language_info": {
      "name": "python"
    }
  },
  "cells": [
    {
      "cell_type": "code",
      "source": [
        "#1.You are in bank and you have given two lists of the employes who have worked in 2021.Employee name list1 are Ramesh,Suresh,Mahesh,Ali.jocob and Sarita.\n",
        "#List2 contains the names of Ali,Mukesh,Mahesh,Jocob,Sai,Sarita.Write a program which helps to identify people common in both the lists.\n",
        "#Please do not use any in-built function.\n",
        " \n",
        "def com_mem(a, b):\n",
        "    a1 = set(a)\n",
        "    b1 = set(b)\n",
        "  \n",
        "    if (a1 & b1):      #| or operator for uncommon elements\n",
        "        print(a1 & b1)\n",
        "    else:\n",
        "        print(\"No common elements\")"
      ],
      "metadata": {
        "id": "6DwQsJggfl81"
      },
      "execution_count": 61,
      "outputs": []
    },
    {
      "cell_type": "code",
      "source": [
        "a1 = [\"Ramesh\",\"Suresh\",\"Mahesh\",\"Ali\",\"Jocob\",\"Sarita\"]\n",
        "b1 = [\"Ali\",\"Mukesh\",\"Mahesh\",\"Jocob\",\"Sai\",\"Sarita\"] \n",
        "\n",
        "com_mem(a1,b1)\n",
        "     \n"
      ],
      "metadata": {
        "id": "IMGHwc7JSj59",
        "colab": {
          "base_uri": "https://localhost:8080/"
        },
        "outputId": "d6ddba8d-9e21-4e1c-fbb6-da004f7f48d8"
      },
      "execution_count": 62,
      "outputs": [
        {
          "output_type": "stream",
          "name": "stdout",
          "text": [
            "{'Ramesh', 'Suresh', 'Sai', 'Mahesh', 'Sarita', 'Jocob', 'Ali', 'Mukesh'}\n"
          ]
        }
      ]
    },
    {
      "cell_type": "code",
      "source": [
        "#2.While entering data someone entered few names as common string \"Ramesh Suresh Mohit\".Write a program which seperates all the names and convert them into a list.\n",
        "#Once converted in a list,please write a program which adds their age.Ramesh=25  Suresh =22 Mohit=26.\n",
        "\n",
        "def convertl(string):       #convert string to list\n",
        "    l = list(string.split(\" \"))\n",
        "    return l\n",
        " \n",
        "\n",
        "str1 = \"Ramesh Suresh Mohit\"\n",
        "print(convertl(str1))"
      ],
      "metadata": {
        "id": "7zIiWQAuBmKN",
        "colab": {
          "base_uri": "https://localhost:8080/"
        },
        "outputId": "13283b31-a7d9-4415-8e5f-6feaeb691c41"
      },
      "execution_count": null,
      "outputs": [
        {
          "output_type": "stream",
          "name": "stdout",
          "text": [
            "['Ramesh', 'Suresh', 'Mohit']\n"
          ]
        }
      ]
    },
    {
      "cell_type": "code",
      "source": [
        " # to Convert a list-l to dictionary -d\n",
        " \n",
        "def convertd(l):\n",
        "  d = {l[i]: l[i + 1] for i in range(0, len(l), 2)}\n",
        "  return d\n",
        "         \n",
        "\n",
        "l = ['Ramesh', 25, 'Suresh', 22, 'Mohit', 26]\n",
        "print(convertd(l))"
      ],
      "metadata": {
        "colab": {
          "base_uri": "https://localhost:8080/"
        },
        "id": "r3El5SW0b1On",
        "outputId": "0f4397e9-7881-48b8-ab53-666c1c7d61de"
      },
      "execution_count": null,
      "outputs": [
        {
          "output_type": "stream",
          "name": "stdout",
          "text": [
            "{'Ramesh': 25, 'Suresh': 22, 'Mohit': 26}\n"
          ]
        }
      ]
    },
    {
      "cell_type": "code",
      "source": [
        "#3.A few students from university have taken three exams.Name = Sam,Jacy,Tom,steve  Python= 25,26,29,28 Statistics = 23,21,19,25 SQL=29,27,28,25.Please write a \n",
        "#program which calculates mean values(no in-built function for mean) of all three tests print the highest mean value.Addition and other functions are allowed.\n",
        "#Please also report who scored the highest mark in python using programming construct.\n",
        "\n",
        "#sam =[25,23,29] ,\n",
        "#Jacy=[26,21,27]\n",
        "#Tom=[29,19,28]\n",
        "#steve=[28,25,25]\n",
        "\n",
        "#p=[25,26,29,28]\n",
        "#st=[23,21,19,25]\n",
        "#sq=[29,27,28,25]\n",
        "\n",
        "p =[25,26,29,28]\n",
        "avg_p = sum(p) / len(p)\n",
        "print(\"Avg of Python Marks:\",avg_p)\n",
        "\n",
        "st =[23,21,19,25]\n",
        "avg_st = sum(st) / len(st)\n",
        "print(\"Avg of Statistics Marks:\",avg_st)\n",
        "\n",
        "sq =[29,27,28,25]\n",
        "avg_sq = sum(sq) / len(sq)\n",
        "print(\"Avg of SQL Marks:\",avg_sq)\n",
        "\n",
        "highest_mean=max(avg_p, avg_st, avg_sq)\n",
        "print(\"Highest Mean :\",highest_mean)\n",
        "\n",
        " #who scored the highest mark in python \n",
        "highest_marks= max(p)\n",
        "print(\"Highest Mark in Python:\",highest_marks)\n",
        "\n",
        "p_score ={\"Sam\":25,\"Jacy\":26,\"Tom\":29,\"Steve\":28}\n",
        "max_value = max(p_score,key=p_score.get)\n",
        "print(\"Person who scored highest in Python is:\",max_value)\n",
        " "
      ],
      "metadata": {
        "id": "ezRzBRGiCXjj",
        "colab": {
          "base_uri": "https://localhost:8080/"
        },
        "outputId": "4990ca95-9ecb-4ef7-840a-ba1eacc3261f"
      },
      "execution_count": 1,
      "outputs": [
        {
          "output_type": "stream",
          "name": "stdout",
          "text": [
            "Avg of Python Marks: 27.0\n",
            "Avg of Statistics Marks: 22.0\n",
            "Avg of SQL Marks: 27.25\n",
            "Highest Mean : 27.25\n",
            "Highest Mark in Python: 29\n",
            "Person who scored highest in Python is: Tom\n"
          ]
        }
      ]
    },
    {
      "cell_type": "code",
      "source": [
        " #4.If you are working in a medical store.A patient came to your medical store and asked to buy 2 strips of Paracetomal,3 strips of Azithromycin and 5 strips of \n",
        "#Vitamin C.One strip of Paracetomal costs Rs 35,One strip of Azithromycin costs Rs 39,One strip of Vitamin C  costs Rs 33.Patient gave you Rs 2000.\n",
        "#Please tell us what is the total cost of each medicine,total cost of all medicine and how much money you refunded to the patient.\n",
        "\n",
        "#d2 ={\"Paracetomal\":2,\"Azithromycin\":3,\"Vitamin C\":5}\n",
        "#d3 ={\"Paracetomal\":35,\"Azithromycin\":39,\"Vitamin C\":33}\n",
        "#amount = 2000\n",
        "#take 2 list  a=[2,3,5]     b=[35,39,33]   multiply   so each value is tc_each medicine.  \n",
        " #tc_all=p=2*35  + 39*3 + 33* 5 \n",
        "#money_refunded= 2000-tc_all\n"
      ],
      "metadata": {
        "id": "WuR7R3eREZX2"
      },
      "execution_count": null,
      "outputs": []
    },
    {
      "cell_type": "code",
      "source": [
        "a=[2,3,5] \n",
        "b=[35,39,33]\n",
        "\n",
        "print(\"List1:\"+str(a))\n",
        "print(\"List2:\"+str(b))\n",
        "totcost_each = [a[i]*b[i] for i in range(len(a))]\n",
        "print(\"Total cost of each medicine is:\"+str(totcost_each))\n",
        "\n",
        "tot_all = 0\n",
        "ele = 0\n",
        "\n",
        "while(ele < len(totcost_each)):\n",
        "    tot_all = tot_all + totcost_each[ele]\n",
        "    ele += 1\n",
        "\n",
        "print(\"Sum of all elements in given list: \", tot_all)\n",
        "  \n",
        "\n",
        "money_refunded = 2000 - tot_all\n",
        "print(\"Refunded Amount:\",money_refunded)"
      ],
      "metadata": {
        "colab": {
          "base_uri": "https://localhost:8080/"
        },
        "id": "EZE43wKOKbTu",
        "outputId": "0d91d0e9-e1fb-4280-90c0-8b866443530c"
      },
      "execution_count": 2,
      "outputs": [
        {
          "output_type": "stream",
          "name": "stdout",
          "text": [
            "List1:[2, 3, 5]\n",
            "List2:[35, 39, 33]\n",
            "Total cost of each medicine is:[70, 117, 165]\n",
            "Sum of all elements in given list:  352\n",
            "Refunded Amount: 1648\n"
          ]
        }
      ]
    },
    {
      "cell_type": "code",
      "source": [
        "#5.Accept a sentence as input and find the number of vowels in it.Assume that the sentence has no punctuation marks.For example i am learning python contains 6 vowels.\n",
        "#This function should be applicable for all different sentences.\n",
        "\n",
        "b = \"i am learning python\"\n",
        "s = set()\n",
        "for i in b:\n",
        "  if i in \"aeiou\":\n",
        "     s.add(i)\n",
        "print(len(s))   "
      ],
      "metadata": {
        "id": "SNPU1ElDEZ3k",
        "colab": {
          "base_uri": "https://localhost:8080/"
        },
        "outputId": "37da7fe9-962b-4b48-be20-96b347d3eefe"
      },
      "execution_count": 3,
      "outputs": [
        {
          "output_type": "stream",
          "name": "stdout",
          "text": [
            "4\n"
          ]
        }
      ]
    },
    {
      "cell_type": "code",
      "source": [
        "#6.you have been Appointed by the election commission to create a website.Your first task is to work on a program which tells candidates if ther are eligible for \n",
        "#voting or not.If they are eligible your output should be \"Congrats!.You are eligible.Otherwise it should tell that you have to return after X number of years.\n",
        "#Eligiblity criteria for voting is 18.If someones age is 15 it should print Return after 3 years.\n",
        "\n",
        "a = int(input(\"Enter Age:\"))\n",
        "if(a>= 18):\n",
        "    print(\"Congrates!.You are eligible for voting\")\n",
        "else:\n",
        "     c = 18 - (int(a))   \n",
        "     print(\"Eligiblity criteria for voting is 18.Return after:\"+str(c),\"years\")"
      ],
      "metadata": {
        "id": "KmJDRmIRHGtT",
        "colab": {
          "base_uri": "https://localhost:8080/"
        },
        "outputId": "6f2fe074-0291-48da-e990-2f9ca7fddbb9"
      },
      "execution_count": 6,
      "outputs": [
        {
          "output_type": "stream",
          "name": "stdout",
          "text": [
            "Enter Age:16\n",
            "Eligiblity criteria for voting is 18.Return after:2 years\n"
          ]
        }
      ]
    },
    {
      "cell_type": "code",
      "source": [
        "     "
      ],
      "metadata": {
        "id": "hrkhLygAEaID"
      },
      "execution_count": null,
      "outputs": []
    }
  ]
}